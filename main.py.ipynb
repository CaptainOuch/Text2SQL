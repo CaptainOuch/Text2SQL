{
 "cells": [
  {
   "cell_type": "markdown",
   "id": "03750cfb",
   "metadata": {},
   "source": [
    "# Подключение базы данных. Подготовка функций"
   ]
  },
  {
   "cell_type": "code",
   "execution_count": 2,
   "id": "ab050b85",
   "metadata": {},
   "outputs": [],
   "source": [
    "import clickhouse_connect\n",
    "import json\n",
    "client = clickhouse_connect.get_client(host='uz12x440kr.europe-west4.gcp.clickhouse.cloud', port=8443, username='default', password='im3tfVdFvxPl_')"
   ]
  },
  {
   "cell_type": "markdown",
   "id": "359f28fa",
   "metadata": {},
   "source": [
    "## Подготовка функций для получения информации о БД"
   ]
  },
  {
   "cell_type": "code",
   "execution_count": 3,
   "id": "39323916",
   "metadata": {},
   "outputs": [],
   "source": [
    "def get_table_names(database):\n",
    "\n",
    "    result = client.query(f\"SHOW TABLES FROM {database}\")\n",
    "    table_names = result.result_rows\n",
    "\n",
    "    table_names = [item[0] for item in table_names]\n",
    "\n",
    "    return table_names"
   ]
  },
  {
   "cell_type": "code",
   "execution_count": 4,
   "id": "16388afa",
   "metadata": {},
   "outputs": [],
   "source": [
    "def get_table_column_names():\n",
    "    \n",
    "    table_names = get_table_names(database)\n",
    "    \n",
    "    tables = []\n",
    "    \n",
    "    for table_name in table_names:\n",
    "        result = client.query(f\"SELECT name FROM system.columns WHERE table = '{table_name}'\")\n",
    "        col_rows = result.result_rows\n",
    "        col_rows = [item[0] for item in col_rows]\n",
    "        \n",
    "        table = {\n",
    "            'table': table_name,\n",
    "            'columns': col_rows\n",
    "        }\n",
    "        \n",
    "        tables.append(table)\n",
    "    \n",
    "    return json.dumps(tables)"
   ]
  },
  {
   "cell_type": "code",
   "execution_count": 5,
   "id": "bc6553d2",
   "metadata": {},
   "outputs": [],
   "source": [
    "#Пока укажем базу данных вручную, в интерфейсе добавим возможность изменения\n",
    "database=\"default\"\n",
    "#И пока заранее получим из неё информацию\n",
    "database_info = get_table_column_names() "
   ]
  },
  {
   "cell_type": "markdown",
   "id": "4120a57c",
   "metadata": {},
   "source": [
    "# Создание text 2 SQL бота "
   ]
  },
  {
   "cell_type": "code",
   "execution_count": 6,
   "id": "ee2d1517",
   "metadata": {},
   "outputs": [],
   "source": [
    "import openai\n",
    "import os\n",
    "from apikey import apikey"
   ]
  },
  {
   "cell_type": "code",
   "execution_count": 7,
   "id": "ff33c028",
   "metadata": {},
   "outputs": [],
   "source": [
    "API_KEY = apikey\n",
    "openai.api_key = API_KEY\n",
    "MODEL = \"gpt-3.5-turbo-0613\" #Использую 0613 т.к. нужна возможность обращаться к функциям"
   ]
  },
  {
   "cell_type": "code",
   "execution_count": 8,
   "id": "88a46e82",
   "metadata": {},
   "outputs": [],
   "source": [
    "import logging\n",
    "formatter = logging.Formatter('%(asctime)s %(levelname)s %(message)s')\n",
    "\n",
    "\n",
    "def setup_logger(name, log_file, level=logging.INFO):\n",
    "    \"\"\"To setup as many loggers as you want\"\"\"\n",
    "\n",
    "    handler = logging.FileHandler(log_file)        \n",
    "    handler.setFormatter(formatter)\n",
    "\n",
    "    logger = logging.getLogger(name)\n",
    "    logger.setLevel(level)\n",
    "    logger.addHandler(handler)\n",
    "\n",
    "    return logger\n",
    "\n",
    "def clean_log(log_name):\n",
    "    with open(log_name, 'w'):\n",
    "        pass\n",
    "\n",
    "\n",
    "# first file logger\n",
    "main_log = setup_logger('main_log', 'app.log')\n",
    "main_log.info('This is just info message')\n",
    "\n",
    "# second file logger\n",
    "test_log = setup_logger('test_log', 'test.log')\n",
    "test_log.error('This is an error message')"
   ]
  },
  {
   "cell_type": "code",
   "execution_count": 9,
   "id": "f6eab5b3",
   "metadata": {},
   "outputs": [],
   "source": [
    "#Получает список значений колонки\n",
    "def get_column_values(table_name, column_names):\n",
    "    \n",
    "    names = []\n",
    "    \n",
    "    for column_name in column_names:\n",
    "\n",
    "        query = f'SELECT DISTINCT {column_name} FROM {table_name}'\n",
    "        result = client.query(query).result_rows\n",
    "        \n",
    "        values = [row[0] for row in result]\n",
    "        \n",
    "        table_values = {\n",
    "            'column': column_name,\n",
    "            'value': values\n",
    "        }\n",
    "        \n",
    "        names.append(table_values)\n",
    "\n",
    "        return json.dumps(names)\n",
    "    \n",
    "#Добавление функции для запроса ботом\n",
    "functions = [\n",
    "    {\n",
    "        \"name\": \"get_column_values\",\n",
    "            \"description\": \"\"\"Use this function to get information about alternative variable names in columns\n",
    "                        \"\"\",\n",
    "        \"parameters\": {\n",
    "            \"type\": \"object\",\n",
    "            \"properties\": {\n",
    "                \"table_name\": {\n",
    "                    \"type\": \"string\",\n",
    "                    \"description\": \"Name of the table related to the columns\",\n",
    "                },\n",
    "                \"column_names\": {\n",
    "                    \"type\": \"array\",\n",
    "                    \"items\": {\n",
    "                        \"type\": \"string\"\n",
    "                    },\n",
    "                    \"description\": \"List of columns where alternative variable names might exist\",\n",
    "                }\n",
    "            },\n",
    "            \"required\": [\"table_name\", \"column_names\"]\n",
    "        },\n",
    "    }\n",
    "]"
   ]
  },
  {
   "cell_type": "code",
   "execution_count": 10,
   "id": "ed488bbf",
   "metadata": {},
   "outputs": [],
   "source": [
    "def get_response (messages):\n",
    "    response = openai.ChatCompletion.create(\n",
    "                model=MODEL,\n",
    "                messages=messages,\n",
    "                temperature=0.0,\n",
    "                functions=functions,\n",
    "                function_call=\"auto\",\n",
    "            )\n",
    "    \n",
    "    response_message = response[\"choices\"][0][\"message\"]\n",
    "    return response_message"
   ]
  },
  {
   "cell_type": "code",
   "execution_count": 11,
   "id": "158799ef",
   "metadata": {},
   "outputs": [
    {
     "name": "stdout",
     "output_type": "stream",
     "text": [
      "{\n",
      "  \"role\": \"assistant\",\n",
      "  \"content\": \"Hi there! How can I assist you today?\"\n",
      "}\n"
     ]
    }
   ],
   "source": [
    "messages=[{\"role\": \"user\", \"content\": \"Hello!\"}]\n",
    "\n",
    "\n",
    "a = get_response (messages)\n",
    "print(a)"
   ]
  },
  {
   "cell_type": "markdown",
   "id": "7c333872",
   "metadata": {},
   "source": [
    "## Функция обращения к БД по SQL запросу"
   ]
  },
  {
   "cell_type": "code",
   "execution_count": 39,
   "id": "197ef19b",
   "metadata": {},
   "outputs": [],
   "source": [
    "def ask_database(client, sqlquery):\n",
    "    #При получении ошибки функция делает повторный запрос с учетом ошибки\n",
    "    try:\n",
    "        results = str(client.query(sqlquery).result_rows)\n",
    "    except Exception as e:\n",
    "            e = str(e)\n",
    "            main_log.info(f\"1st error message:{e}\")\n",
    "            err_messages = [({\"role\": \"system\", \"content\": sqlquery})]\n",
    "            err_messages.append({\"role\": \"system\", \"content\": json.loads(json.dumps(e))})\n",
    "            err_messages.append({\"role\": \"system\", \"content\": \"\"\"change SQL query based on given error. \n",
    "            Write only one SQL query without additional information.\"\"\"})\n",
    "            \n",
    "            second_try_query = get_response(err_messages)\n",
    "            \n",
    "            second_try_query_message = second_try_query['content']\n",
    "            \n",
    "            if second_try_query_message[-1] == ';':\n",
    "                second_try_query_message = second_try_query_message[:-1]\n",
    "                \n",
    "            main_log.info(f\"Second try query: {second_try_query_message}\")    \n",
    "            \n",
    "            try:\n",
    "                results = str(client.query(second_try_query_message).result_rows)\n",
    "         \n",
    "                main_log.info(f\"second try results:{results}\")\n",
    "\n",
    "            except Exception as g:\n",
    "                results = f\"query failed after two attempts with error: {g}\"\n",
    "                \n",
    "                main_log.info(f\"second try error:{results}\")\n",
    "                \n",
    "    return json.dumps(results)"
   ]
  },
  {
   "cell_type": "code",
   "execution_count": 42,
   "id": "cf461d2d",
   "metadata": {},
   "outputs": [],
   "source": [
    "def run_conversation(usermessage):\n",
    "    #Если в логах нужно хранить серию запросов - строку ниже можно убрать\n",
    "    clean_log('app.log')\n",
    "\n",
    "      \n",
    "    #Классификация запроса. Получениe информации о бд\n",
    "    messages=[\n",
    "        {\"role\": \"system\", \"content\": \"\"\"\n",
    "        You are database assistant.\n",
    "        Use the following step-by-step instructions (every instruction starts with '-') to respond user inputs\n",
    "        \"\"\"\n",
    "        },\n",
    "        {\"role\": \"user\", \"content\": usermessage}]\n",
    "\n",
    "    messages.append(\n",
    "        {\n",
    "            \"role\": \"system\",\n",
    "            \"content\": f'database info: {database_info}',\n",
    "        }            \n",
    "    )\n",
    "\n",
    "\n",
    "    messages.append({\"role\": \"system\", \"content\": \"\"\"\n",
    "    -Call \"get_column_values\" function to retrieve alternative names for variables such as 'Google' from the user's message.\n",
    "Include all columns that may contain information about alternative names.\n",
    "Exclude columns that contain non-string information.\n",
    "If retrieving alternative names is not necessary for the query, skip this step.\n",
    "        \"\"\"})\n",
    "\n",
    "\n",
    "    get_names_response = get_response(messages)\n",
    "    \n",
    "    \n",
    "    ##Если была вызвана функция получения списка значений колонки\n",
    "    if get_names_response.get(\"function_call\"):\n",
    "        function_args = list(json.loads(get_names_response[\"function_call\"][\"arguments\"]).values())\n",
    "        function_response = json.loads(get_column_values(*function_args))\n",
    "        messages.append(\n",
    "            {\n",
    "                \"role\": \"function\",\n",
    "                \"name\": \"get_column_values\",\n",
    "                \"content\": str(function_response),\n",
    "            }            \n",
    "        )\n",
    "\n",
    "        main_log.info(f\"Get column variables: {function_response} \\n\")\n",
    "\n",
    "    #Результирование полученных данных и запроса пользователя\n",
    "    messages.append(\n",
    "        {\"role\": \"system\", \"content\": \"\"\"-Give detailed explanation what SQL query should be like. Don't Write Query itself\"\"\"}\n",
    "    )\n",
    "    \n",
    "    query_explanation = get_response(messages)\n",
    "    query_explanation_message = query_explanation['content']\n",
    "    \n",
    "    main_log.info(f\"Query explanation: {query_explanation_message} \\n\")\n",
    "    messages.append(\n",
    "        {\n",
    "            \"role\": \"assistant\",\n",
    "            \"content\": query_explanation_message,\n",
    "        }            \n",
    "    )\n",
    "    \n",
    "    messages.append(\n",
    "        {\"role\": \"system\", \"content\": \"\"\"-Basing on explanation generate an SQL query for ClickHouse_Connect. \n",
    "         Don't use ';' symbol. \n",
    "         Write only one SQL query without additional information.\"\"\"}\n",
    "    )\n",
    "\n",
    "    query_response = get_response(messages)\n",
    "    query_message = query_response['content']\n",
    "\n",
    "    ##ClickHouse не поддерживает запросы с ; на конце\n",
    "    if query_message[-1] == ';':\n",
    "        query_message = query_message[:-1]\n",
    "\n",
    "    main_log.info(f\"Query: {query_message} \\n\")\n",
    "\n",
    "    #Получение результатов на основе запроса\n",
    "    query_results = json.loads(ask_database(client, query_message))   \n",
    "    messages.append({\"role\": \"system\", \"content\": f\"Query results:{query_results}\"})     \n",
    "\n",
    "\n",
    "    main_log.info(f\"Query results:{query_results} \\n\")\n",
    "\n",
    "    #Подытоживание\n",
    "    messages.append(\n",
    "        {\"role\": \"system\", \"content\": \"-Give detailed answer to user question using query results\"}\n",
    "    )\n",
    "\n",
    "\n",
    "    last_response = get_response(messages)\n",
    "\n",
    "    return last_response['content']"
   ]
  },
  {
   "cell_type": "code",
   "execution_count": 43,
   "id": "1781780d",
   "metadata": {},
   "outputs": [
    {
     "data": {
      "text/plain": [
       "'The highest number of users per day in Q1 2023 was recorded on March 2, 2023, with a total of 155 users.'"
      ]
     },
     "execution_count": 43,
     "metadata": {},
     "output_type": "execute_result"
    }
   ],
   "source": [
    "usermessage = 'When did we get the highest number of users per day in Q1 2023?'\n",
    "\n",
    "content = run_conversation(usermessage)\n",
    "\n",
    "content"
   ]
  },
  {
   "cell_type": "code",
   "execution_count": 44,
   "id": "33e7f5fe",
   "metadata": {},
   "outputs": [
    {
     "name": "stdout",
     "output_type": "stream",
     "text": [
      "2023-06-21 19:34:11,935 INFO Get column variables: [{'column': 'platform', 'value': ['Google', 'LinkedIn', 'Facebook', 'Bing']}] \n",
      "\n",
      "2023-06-21 19:34:20,872 INFO Query explanation: To find the highest number of users per day in Q1 2023, we need to filter the data for the first quarter of 2023 and then find the maximum value of the \"users_count\" column. The SQL query should include the following steps:\n",
      "\n",
      "1. Select the \"date\" and \"users_count\" columns from the \"analytics\" table.\n",
      "2. Filter the data to include only the dates within the first quarter of 2023.\n",
      "3. Group the data by date.\n",
      "4. Calculate the sum of the \"users_count\" for each date.\n",
      "5. Order the results in descending order based on the sum of \"users_count\".\n",
      "6. Limit the result to the first row to get the highest number of users per day in Q1 2023.\n",
      "\n",
      "The specific SQL query will depend on the database management system being used. \n",
      "\n",
      "2023-06-21 19:34:23,769 INFO Query: SELECT date, SUM(users_count) AS total_users\n",
      "FROM analytics\n",
      "WHERE date >= '2023-01-01' AND date <= '2023-03-31'\n",
      "GROUP BY date\n",
      "ORDER BY total_users DESC\n",
      "LIMIT 1 \n",
      "\n",
      "2023-06-21 19:34:24,031 INFO Query results:[(datetime.date(2023, 3, 2), 155)] \n",
      "\n",
      "\n"
     ]
    }
   ],
   "source": [
    "with open(\"app.log\", \"r\") as file:\n",
    "    file_content = file.read()\n",
    "\n",
    "print(file_content)"
   ]
  },
  {
   "cell_type": "markdown",
   "id": "02b029f5",
   "metadata": {},
   "source": [
    "# Создание системы тестирования"
   ]
  },
  {
   "cell_type": "code",
   "execution_count": 45,
   "id": "8f30f940",
   "metadata": {},
   "outputs": [],
   "source": [
    "def matcher (response, answer):\n",
    "    matcher_messages = [({\"role\": \"system\", \"content\": f'Model Response:{response}'})]\n",
    "    matcher_messages.append({\"role\": \"system\", \"content\": f'Real response:{answer}'})\n",
    "    \n",
    "    matcher_messages.append({\"role\": \"system\", \"content\": \"\"\"Based on Model Response and Real response, choose if Model Response is Correct or Wrong.\n",
    "    Responses doesn't have to be exactly same, only meaning and values must be acccurate\n",
    "    Write only one word 'Correct' or 'Wrong'\"\"\"})   \n",
    "    \n",
    "\n",
    "    matcher_responce = openai.ChatCompletion.create(\n",
    "        model=\"gpt-3.5-turbo-0613\",\n",
    "        messages=matcher_messages,\n",
    "        temperature=0.0,\n",
    "    )\n",
    "    \n",
    "    matcher_responce_message = matcher_responce[\"choices\"][0][\"message\"]['content']\n",
    "    \n",
    "    test_log.info(f'Matcher response: {matcher_responce_message} \\n')\n",
    "\n",
    "\n",
    "    if matcher_responce_message == 'Correct':\n",
    "        correct=1\n",
    "        wrong=0\n",
    "        \n",
    "    else:\n",
    "        correct=0\n",
    "        wrong=1\n",
    "    \n",
    "    return [correct, wrong]"
   ]
  },
  {
   "cell_type": "code",
   "execution_count": 46,
   "id": "3064f599",
   "metadata": {},
   "outputs": [],
   "source": [
    "def evaluate (question_list, answer_list):\n",
    "    clean_log('test.log')\n",
    "    \n",
    "    num_correct = 0\n",
    "    num_wrong = 0\n",
    "    for question, answer in zip(question_list, answer_list):\n",
    "        response = run_conversation(question)\n",
    "        test_log.info(f'Text2SQL response: {response} \\n')\n",
    "        matcher_results = matcher(response, answer)\n",
    "        \n",
    "        #Прибавляем соответсвующие значения\n",
    "        num_correct += matcher_results[0]\n",
    "        num_wrong += matcher_results[1]\n",
    "        \n",
    "        test_log.info(f'Выполнение:{num_correct+num_wrong} из {len(question_list)}. Количество верных ответов - {num_correct} \\n')\n",
    "    \n",
    "    result = f\"\"\"\n",
    "    Количетсво верных ответов: {num_correct}\n",
    "    Количество неправильных ответов: {num_wrong}\n",
    "    Точность: {num_correct/(num_correct+num_wrong)}\n",
    "    \"\"\"\n",
    "    \n",
    "    return result       "
   ]
  },
  {
   "cell_type": "code",
   "execution_count": 47,
   "id": "a857d088",
   "metadata": {},
   "outputs": [],
   "source": [
    "question_list = ['How many active agency customers did we have on January 1st, 2022?', \n",
    "                 'When did we get the highest number of users per day in Q1 2023?',\n",
    "                 'When did we get the maximum of daily visits on the website in 2022?',\n",
    "                 'What was the average CPC in Google Ads in April 2023?',\n",
    "                 'How many LinkedIn clicks did we have in 2022?',\n",
    "                 'Which platform had the highest CPC in 2022: Google or Bing?',\n",
    "                 'Get the best ad name by clicks from Facebook, Google, and LinkedIn for 2022.']\n",
    "\n",
    "answer_list = ['The query did not return any results. This means that there is no data available for the number of active agency customers on January 1st, 2022 in the \"analytics\" table.',\n",
    "               'The highest number of users per day in Q1 2023 was 155, and it occurred on March 2, 2023.',\n",
    "               'The maximum number of daily visits on the website in 2022 was recorded on May 2nd, 2022, with a total of 2100 visits.',\n",
    "               'The average CPC in Google Ads in April 2023 is approximately 1.20.',\n",
    "               'Based on the query results, we had a total of 3,490 LinkedIn clicks in 2022.',\n",
    "               'Based on the data from the \"analytics\" table, the platform with the highest CPC (Cost Per Click) in 2022 was Google, with a CPC value of 1.90. Bing had a slightly lower CPC value of 1.80 in 2022.',\n",
    "               'The best ad name by clicks from Facebook, Google, and LinkedIn for 2022 is \"Ad Name 9\" with a total of 260 clicks.'\n",
    "              ]"
   ]
  },
  {
   "cell_type": "code",
   "execution_count": 48,
   "id": "bf45bc34",
   "metadata": {},
   "outputs": [
    {
     "name": "stderr",
     "output_type": "stream",
     "text": [
      "Code: 62. DB::Exception: Syntax error: failed at position 160 ('SELECT') (line 5, col 1): SELECT COUNT(DISTINCT customers_count) AS active_customers\n",
      "FROM analytics\n",
      "WHERE date = '2022-01-01'\n",
      "AND platform IN ('Google', 'LinkedIn', 'Facebook', 'Bing')\n",
      " . Expected one of: token, DoubleColon, OR, AND, BETWEEN, NOT BETWEEN, LIKE, ILIKE, NOT LIKE, NOT ILIKE, REGEXP, IN, NOT IN, GLOBAL IN, GLOBAL NOT IN, MOD, DIV, IS NULL, IS NOT NULL, alias, AS, GROUP BY, WITH, HAVING, WINDOW, ORDER BY, LIMIT, OFFSET, SETTINGS, UNION, EXCEPT, INTERSECT, INTO OUTFILE, FORMAT, end of query. (SYNTAX_ERROR) (version 23.5.1.34401 (official build))\n",
      "\n",
      "Code: 62. DB::Exception: Syntax error: failed at position 160 ('I') (line 5, col 1): I apologize for the confusion. Here's the corrected SQL query:\n",
      "\n",
      "```sql\n",
      "SELECT COUNT(DISTINCT customers_count) AS active_customers\n",
      "FROM analytics\n",
      "WHERE date = '2. Expected one of: token, DoubleColon, OR, AND, BETWEEN, NOT BETWEEN, LIKE, ILIKE, NOT LIKE, NOT ILIKE, REGEXP, IN, NOT IN, GLOBAL IN, GLOBAL NOT IN, MOD, DIV, IS NULL, IS NOT NULL, alias, AS, GROUP BY, WITH, HAVING, WINDOW, ORDER BY, LIMIT, OFFSET, SETTINGS, UNION, EXCEPT, INTERSECT, INTO OUTFILE, FORMAT, end of query. (SYNTAX_ERROR) (version 23.5.1.34401 (official build))\n",
      "\n",
      "Code: 62. DB::Exception: Syntax error: failed at position 107 ('SELECT') (line 4, col 1): SELECT MAX(visits_count) AS max_visits\n",
      "FROM analytics\n",
      "WHERE date >= '2022-01-01' AND date <= '2022-12-31'\n",
      " FORMAT Native. Expected one of: token, DoubleColon, OR, AND, BETWEEN, NOT BETWEEN, LIKE, ILIKE, NOT LIKE, NOT ILIKE, REGEXP, IN, NOT IN, GLOBAL IN, GLOBAL NOT IN, MOD, DIV, IS NULL, IS NOT NULL, alias, AS, GROUP BY, WITH, HAVING, WINDOW, ORDER BY, LIMIT, OFFSET, SETTINGS, UNION, EXCEPT, INTERSECT, INTO OUTFILE, FORMAT, end of query. (SYNTAX_ERROR) (version 23.5.1.34401 (official build))\n",
      "\n",
      "Code: 62. DB::Exception: Syntax error: failed at position 183 ('SELECT') (line 7, col 1): SELECT ad_name, SUM(clicks) AS total_clicks\n",
      "FROM analytics\n",
      "WHERE platform IN ('Facebook', 'Google', 'LinkedIn')\n",
      "  AND toYear(date) = 2022\n",
      "GROUP BY ad_name\n",
      "ORDER. Expected one of: token, Comma, LIMIT, OFFSET, SETTINGS, UNION, EXCEPT, INTERSECT, INTO OUTFILE, FORMAT, end of query. (SYNTAX_ERROR) (version 23.5.1.34401 (official build))\n",
      "\n"
     ]
    },
    {
     "name": "stdout",
     "output_type": "stream",
     "text": [
      "\n",
      "    Количетсво верных ответов: 6\n",
      "    Количество неправильных ответов: 1\n",
      "    Точность: 0.8571428571428571\n",
      "    \n"
     ]
    }
   ],
   "source": [
    "res = evaluate(question_list, answer_list)\n",
    "\n",
    "print(res)"
   ]
  },
  {
   "cell_type": "code",
   "execution_count": 50,
   "id": "5f677721",
   "metadata": {},
   "outputs": [
    {
     "name": "stdout",
     "output_type": "stream",
     "text": [
      "2023-06-21 19:37:00,353 INFO Text2SQL response: I apologize, but there was an error in executing the SQL query. Please try again later. \n",
      "\n",
      "2023-06-21 19:37:01,117 INFO Matcher response: Correct \n",
      "\n",
      "2023-06-21 19:37:01,118 INFO Выполнение:1 из 7. Количество верных ответов - 1 \n",
      "\n",
      "2023-06-21 19:37:18,512 INFO Text2SQL response: The highest number of users per day in Q1 2023 was recorded on March 2, 2023, with a total of 155 users. \n",
      "\n",
      "2023-06-21 19:37:19,307 INFO Matcher response: Correct \n",
      "\n",
      "2023-06-21 19:37:19,308 INFO Выполнение:2 из 7. Количество верных ответов - 2 \n",
      "\n",
      "2023-06-21 19:38:35,580 INFO Text2SQL response: The maximum daily visits on the website in 2022 was 2100. \n",
      "\n",
      "2023-06-21 19:38:36,384 INFO Matcher response: Correct \n",
      "\n",
      "2023-06-21 19:38:36,384 INFO Выполнение:3 из 7. Количество верных ответов - 3 \n",
      "\n",
      "2023-06-21 19:38:54,173 INFO Text2SQL response: The average CPC in Google Ads in April 2023 was approximately 1.20. \n",
      "\n",
      "2023-06-21 19:38:57,836 INFO Matcher response: Correct \n",
      "\n",
      "2023-06-21 19:38:57,836 INFO Выполнение:4 из 7. Количество верных ответов - 4 \n",
      "\n",
      "2023-06-21 19:39:09,053 INFO Text2SQL response: In 2022, we had a total of 3,490 LinkedIn clicks. \n",
      "\n",
      "2023-06-21 19:39:10,028 INFO Matcher response: Correct \n",
      "\n",
      "2023-06-21 19:39:10,028 INFO Выполнение:5 из 7. Количество верных ответов - 5 \n",
      "\n",
      "2023-06-21 19:40:18,660 INFO Text2SQL response: Based on the data from the analytics table, the platform with the highest CPC (Cost Per Click) in 2022 is Google. The average CPC for Google in 2022 is 1.488. \n",
      "\n",
      "2023-06-21 19:40:19,707 INFO Matcher response: Wrong \n",
      "\n",
      "2023-06-21 19:40:19,707 INFO Выполнение:6 из 7. Количество верных ответов - 5 \n",
      "\n",
      "2023-06-21 19:40:57,119 INFO Text2SQL response: Based on the query results, the best ad names by clicks from Facebook, Google, and LinkedIn for 2022 are as follows:\n",
      "\n",
      "1. Ad Name 36 - 260 clicks\n",
      "2. Ad Name 54 - 260 clicks\n",
      "3. Ad Name 72 - 260 clicks\n",
      "4. Ad Name 90 - 260 clicks\n",
      "5. Ad Name 9 - 260 clicks\n",
      "6. Ad Name 96 - 240 clicks\n",
      "7. Ad Name 69 - 240 clicks\n",
      "8. Ad Name 78 - 240 clicks\n",
      "9. Ad Name 24 - 240 clicks\n",
      "10. Ad Name 60 - 240 clicks\n",
      "\n",
      "Please note that these are the top 10 ad names based on the number of clicks, and the list continues with more ad names and their respective click counts. \n",
      "\n",
      "2023-06-21 19:40:58,091 INFO Matcher response: Correct \n",
      "\n",
      "2023-06-21 19:40:58,091 INFO Выполнение:7 из 7. Количество верных ответов - 6 \n",
      "\n",
      "\n"
     ]
    }
   ],
   "source": [
    "#Мэтчер работает не идеально, так как третий ответ лишь частичный и не отвечает на главный вопрос\n",
    "\n",
    "with open(\"test.log\", \"r\") as file:\n",
    "    file_content = file.read()\n",
    "\n",
    "print(file_content)"
   ]
  },
  {
   "cell_type": "markdown",
   "id": "b5a148ea",
   "metadata": {},
   "source": [
    "# Создание интерфейса"
   ]
  },
  {
   "cell_type": "code",
   "execution_count": 51,
   "id": "37d84af9",
   "metadata": {},
   "outputs": [],
   "source": [
    "import gradio as gr\n",
    "import sys"
   ]
  },
  {
   "cell_type": "code",
   "execution_count": 52,
   "id": "7eb721e7",
   "metadata": {},
   "outputs": [],
   "source": [
    "def set_database_name(database_name):\n",
    "    global database\n",
    "    database = database_name"
   ]
  },
  {
   "cell_type": "code",
   "execution_count": 53,
   "id": "84eb93fd",
   "metadata": {},
   "outputs": [],
   "source": [
    "def read_question_answers_list (filepath):\n",
    "    with open(filepath, 'r') as file:\n",
    "        # Прочитайть содержимое файла\n",
    "        content = file.read()\n",
    "\n",
    "    # Разделить содержимое файла на список строк (предполагается, что вопрос и ответ разделены пустой строкой)\n",
    "    lines = content.split('\\n\\n')\n",
    "    # Разделить строки на вопросы и ответы\n",
    "    question_list = []\n",
    "    answer_list = []\n",
    "    for line in lines:\n",
    "        parts = line.split('\\n')\n",
    "        question_list.append(parts[0])\n",
    "        answer_list.append(parts[1])\n",
    "    qa_list = [question_list, answer_list]\n",
    "    # Вывести полученные списки вопросов и ответов\n",
    "    return qa_list"
   ]
  },
  {
   "cell_type": "code",
   "execution_count": 54,
   "id": "d2a3446d",
   "metadata": {},
   "outputs": [],
   "source": [
    "def read_logs(log_name):\n",
    "\n",
    "    with open(log_name, \"r\") as f:\n",
    "        return f.read()"
   ]
  },
  {
   "cell_type": "code",
   "execution_count": 55,
   "id": "8de07e1d",
   "metadata": {},
   "outputs": [
    {
     "name": "stdout",
     "output_type": "stream",
     "text": [
      "Running on local URL:  http://127.0.0.1:7860\n",
      "\n",
      "To create a public link, set `share=True` in `launch()`.\n"
     ]
    },
    {
     "data": {
      "text/html": [
       "<div><iframe src=\"http://127.0.0.1:7860/\" width=\"100%\" height=\"500\" allow=\"autoplay; camera; microphone; clipboard-read; clipboard-write;\" frameborder=\"0\" allowfullscreen></iframe></div>"
      ],
      "text/plain": [
       "<IPython.core.display.HTML object>"
      ]
     },
     "metadata": {},
     "output_type": "display_data"
    },
    {
     "data": {
      "text/plain": []
     },
     "execution_count": 55,
     "metadata": {},
     "output_type": "execute_result"
    }
   ],
   "source": [
    "import gradio as gr\n",
    "import time\n",
    "with gr.Blocks() as demo:\n",
    "    with gr.Row():\n",
    "        gr.Markdown(\n",
    "            \"\"\"\n",
    "            # Text2SQL\n",
    "            Past name of database below\n",
    "            \"\"\")\n",
    "    with gr.Row():\n",
    "        database_name = gr.Textbox('default', label=\"DataBase Name\")\n",
    "    with gr.Row():\n",
    "        with gr.Column():\n",
    "            gr.Markdown(\n",
    "            \"\"\"\n",
    "            # Get database response\n",
    "            Type DB related question.\n",
    "            \"\"\")\n",
    "\n",
    "            request_text = gr.Textbox(label=\"Request Text\")\n",
    "            examples = gr.Examples(examples=['How many active agency customers did we have on January 1st, 2022?', \n",
    "                 'When did we get the highest number of users per day in Q1 2023?'],\n",
    "                           inputs=[request_text])\n",
    "            ask_btn = gr.Button(\"Ask Model\")\n",
    "\n",
    "            text2sql_answer = gr.Textbox(label=\"Response\")\n",
    "\n",
    "            \n",
    "            \n",
    "        with gr.Column():\n",
    "            gr.Markdown(\n",
    "                \"\"\"\n",
    "                # Evaluate model\n",
    "                Paste name of Q/A file.\n",
    "                \"\"\")\n",
    "            \n",
    "            qa_filename = gr.Textbox(label=\"QA filename\")\n",
    "            #evaluation questions.txt\n",
    "            \n",
    "            evaluate_btn = gr.Button(\"Evaluate model\")\n",
    "            \n",
    "            eval_results = gr.Textbox(label=\"Evaluation Results\")\n",
    "            \n",
    "    with gr.Row():\n",
    "        with gr.Column():\n",
    "            request_log_label = gr.Textbox(label='Request log', max_lines=10)\n",
    "\n",
    "        with gr.Column():\n",
    "            test_log_label = gr.Textbox(label='Test log',max_lines=10)\n",
    "    def req_combined_function(database_name, request_text):\n",
    "        set_database_name(database_name)  # Вызов первой функции\n",
    "        return run_conversation(request_text)  # Вызов второй функции\n",
    "        \n",
    "    def eval_combined_function(database_name, qa_filename):\n",
    "        set_database_name(database_name)\n",
    "        qa_list = read_question_answers_list(qa_filename)\n",
    "        return evaluate(qa_list[0], qa_list[1])  # Вызов второй функции\n",
    "    \n",
    "    demo.load(lambda: read_logs(\"test.log\"), None, test_log_label, every=1)\n",
    "    demo.load(lambda: read_logs(\"app.log\"), None, request_log_label, every=1)\n",
    "    \n",
    "    ask_btn.click(req_combined_function, inputs=[database_name, request_text], outputs=text2sql_answer)\n",
    "    \n",
    "    evaluate_btn.click(eval_combined_function, inputs=[database_name, qa_filename], outputs=eval_results)\n",
    "    \n",
    "    \n",
    "  # Recursively call the function to update the logs continuously\n",
    "\n",
    "    # Call the function to start updating the logs\n",
    "    \n",
    "    \n",
    "    \n",
    "\n",
    "demo.queue().launch()\n"
   ]
  },
  {
   "cell_type": "code",
   "execution_count": null,
   "id": "eebfd09d",
   "metadata": {},
   "outputs": [],
   "source": []
  }
 ],
 "metadata": {
  "kernelspec": {
   "display_name": "Python 3 (ipykernel)",
   "language": "python",
   "name": "python3"
  },
  "language_info": {
   "codemirror_mode": {
    "name": "ipython",
    "version": 3
   },
   "file_extension": ".py",
   "mimetype": "text/x-python",
   "name": "python",
   "nbconvert_exporter": "python",
   "pygments_lexer": "ipython3",
   "version": "3.9.12"
  }
 },
 "nbformat": 4,
 "nbformat_minor": 5
}
